{
 "cells": [
  {
   "cell_type": "code",
   "execution_count": 9,
   "metadata": {},
   "outputs": [
    {
     "name": "stdout",
     "output_type": "stream",
     "text": [
      "             precision    recall  f1-score   support\n",
      "\n",
      "          0       0.81      0.88      0.84       165\n",
      "          1       0.77      0.66      0.71       103\n",
      "\n",
      "avg / total       0.79      0.79      0.79       268\n",
      "\n"
     ]
    }
   ],
   "source": [
    "import numpy as np\n",
    "import pandas as pd\n",
    "import matplotlib.pyplot as plt\n",
    "import csv\n",
    "from sklearn import metrics, linear_model as lm\n",
    "from IPython.display import display\n",
    "from sklearn.cross_validation import train_test_split\n",
    "from sklearn.metrics import confusion_matrix\n",
    "from sklearn.metrics import classification_report\n",
    "traindata = pd.read_csv('./Titanic/train.csv')\n",
    "testdata = pd.read_csv('./Titanic/test.csv')\n",
    "\n",
    "def cleandata(data):\n",
    "    #Age has missing values, fill it with mean\n",
    "    #Cabin almost empty, drop it\n",
    "    data[\"Sex\"] = data[\"Sex\"].apply(lambda sex:1 if sex==\"male\" else 0)\n",
    "    #handle missing values of age\n",
    "    data[\"Age\"] = data[\"Age\"].fillna(data[\"Age\"].mean())\n",
    "    return data\n",
    "\n",
    "#cleaning test data\n",
    "traindata = cleandata(traindata)\n",
    "testdata = cleandata(testdata)\n",
    "\n",
    "#traindata\n",
    "y_train = traindata[\"Survived\"].values\n",
    "x_train = traindata[[\"Pclass\",\"Sex\",\"Age\",\"SibSp\",\"Parch\"]].values\n",
    "#testdata\n",
    "x_test = testdata[[\"Pclass\",\"Sex\",\"Age\",\"SibSp\",\"Parch\"]].values\n",
    "\n",
    "#Apply Logistic Regression\n",
    "logReg = lm.LogisticRegression()\n",
    "logReg.fit(x_train,y_train)\n",
    "y_pred = logReg.predict(x_test)\n",
    "\n",
    "#output to file\n",
    "solution = pd.DataFrame({'Survived':np.array(y_pred)}, index=testdata.PassengerId)\n",
    "solution.to_csv(\"./Titanigender_submission.csv\", sep=',')\n",
    "\n",
    "#Test accuracy using columns via cross validation\n",
    "x1_train, x1_test, y1_train, y1_test = train_test_split(x_train, y_train, test_size = .3, random_state=25)\n",
    "logReg = lm.LogisticRegression()\n",
    "logReg.fit(x1_train,y1_train)\n",
    "y1_pred = logReg.predict(x1_test)\n",
    "#confusion_matrix = confusion_matrix(y1_test, y1_pred)\n",
    "print(classification_report(y1_test, y1_pred))"
   ]
  }
 ],
 "metadata": {
  "kernelspec": {
   "display_name": "Python 3",
   "language": "python",
   "name": "python3"
  },
  "language_info": {
   "codemirror_mode": {
    "name": "ipython",
    "version": 3
   },
   "file_extension": ".py",
   "mimetype": "text/x-python",
   "name": "python",
   "nbconvert_exporter": "python",
   "pygments_lexer": "ipython3",
   "version": "3.6.1"
  }
 },
 "nbformat": 4,
 "nbformat_minor": 2
}
